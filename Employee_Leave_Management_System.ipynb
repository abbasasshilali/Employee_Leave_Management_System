{
 "cells": [
  {
   "cell_type": "code",
   "execution_count": 1,
   "id": "6851689f-7638-44d9-a6d8-7eff578eb392",
   "metadata": {},
   "outputs": [
    {
     "name": "stdout",
     "output_type": "stream",
     "text": [
      "\n",
      "--- Employee Leave Management System ---\n",
      "1. Apply for Leave\n",
      "2. Approve Leave Requests (Manager)\n",
      "3. Check Leave Balance\n",
      "4. Exit\n"
     ]
    },
    {
     "name": "stdin",
     "output_type": "stream",
     "text": [
      "Enter your choice:  1\n",
      "Enter Employee ID:  001\n",
      "Enter Employee Name:  abbas\n",
      "Enter Leave Type (Sick, Casual, Earned):  sick\n",
      "Enter Start Date (YYYY-MM-DD):  2024-9-1\n",
      "Enter End Date (YYYY-MM-DD):  2024-9-9\n",
      "Enter Leave Duration (in days):  9\n"
     ]
    },
    {
     "name": "stdout",
     "output_type": "stream",
     "text": [
      "Leave request submitted for abbas (ID: 001)\n",
      "\n",
      "--- Employee Leave Management System ---\n",
      "1. Apply for Leave\n",
      "2. Approve Leave Requests (Manager)\n",
      "3. Check Leave Balance\n",
      "4. Exit\n"
     ]
    },
    {
     "name": "stdin",
     "output_type": "stream",
     "text": [
      "Enter your choice:  2\n"
     ]
    },
    {
     "name": "stdout",
     "output_type": "stream",
     "text": [
      "\n",
      "Pending Leave Requests:\n",
      "\n",
      "Request 1:\n",
      "Employee Name: abbas\n",
      "Leave Type: Sick\n",
      "Start Date: 2024-9-1\n",
      "End Date: 2024-9-9\n",
      "Duration: 9 days\n"
     ]
    },
    {
     "name": "stdin",
     "output_type": "stream",
     "text": [
      "Approve this leave? (yes/no):  yes\n"
     ]
    },
    {
     "name": "stdout",
     "output_type": "stream",
     "text": [
      "Leave Approved.\n",
      "\n",
      "--- Employee Leave Management System ---\n",
      "1. Apply for Leave\n",
      "2. Approve Leave Requests (Manager)\n",
      "3. Check Leave Balance\n",
      "4. Exit\n"
     ]
    },
    {
     "name": "stdin",
     "output_type": "stream",
     "text": [
      "Enter your choice:  3\n"
     ]
    },
    {
     "name": "stdout",
     "output_type": "stream",
     "text": [
      "Current Leave Balance:\n",
      "Sick Leave: 1 days remaining\n",
      "Casual Leave: 8 days remaining\n",
      "Earned Leave: 15 days remaining\n",
      "\n",
      "--- Employee Leave Management System ---\n",
      "1. Apply for Leave\n",
      "2. Approve Leave Requests (Manager)\n",
      "3. Check Leave Balance\n",
      "4. Exit\n"
     ]
    },
    {
     "name": "stdin",
     "output_type": "stream",
     "text": [
      "Enter your choice:  4\n"
     ]
    },
    {
     "name": "stdout",
     "output_type": "stream",
     "text": [
      "Goodbye!\n"
     ]
    }
   ],
   "source": [
    "# Part 1: Employee Leave Application\n",
    "employees = {}\n",
    "leave_requests = []\n",
    "\n",
    "# Simple leave balance setup\n",
    "leave_balance = {\n",
    "    \"Sick\": 10,\n",
    "    \"Casual\": 8,\n",
    "    \"Earned\": 15\n",
    "}\n",
    "\n",
    "def apply_for_leave():\n",
    "    emp_id = input(\"Enter Employee ID: \")\n",
    "    emp_name = input(\"Enter Employee Name: \")\n",
    "    \n",
    "    # Ask for leave type and validate\n",
    "    leave_type = input(\"Enter Leave Type (Sick, Casual, Earned): \").capitalize()\n",
    "    if leave_type not in leave_balance:\n",
    "        print(\"Invalid leave type! Try again.\")\n",
    "        return\n",
    "    \n",
    "    # Input leave start and end date\n",
    "    start_date = input(\"Enter Start Date (YYYY-MM-DD): \")\n",
    "    end_date = input(\"Enter End Date (YYYY-MM-DD): \")\n",
    "    \n",
    "    # Calculate leave duration\n",
    "    leave_duration = int(input(\"Enter Leave Duration (in days): \"))\n",
    "    \n",
    "    # Check leave balance\n",
    "    if leave_duration > leave_balance[leave_type]:\n",
    "        print(f\"Not enough {leave_type} leave available!\")\n",
    "        return\n",
    "    \n",
    "    # Save the leave request\n",
    "    leave_requests.append({\n",
    "        \"Employee ID\": emp_id,\n",
    "        \"Employee Name\": emp_name,\n",
    "        \"Leave Type\": leave_type,\n",
    "        \"Start Date\": start_date,\n",
    "        \"End Date\": end_date,\n",
    "        \"Duration\": leave_duration,\n",
    "        \"Status\": \"Pending\"\n",
    "    })\n",
    "    \n",
    "    print(f\"Leave request submitted for {emp_name} (ID: {emp_id})\")\n",
    "\n",
    "# Part 2: Manager Leave Approval\n",
    "def approve_leave():\n",
    "    print(\"\\nPending Leave Requests:\")\n",
    "    for i, request in enumerate(leave_requests):\n",
    "        if request[\"Status\"] == \"Pending\":\n",
    "            print(f\"\\nRequest {i+1}:\")\n",
    "            print(f\"Employee Name: {request['Employee Name']}\")\n",
    "            print(f\"Leave Type: {request['Leave Type']}\")\n",
    "            print(f\"Start Date: {request['Start Date']}\")\n",
    "            print(f\"End Date: {request['End Date']}\")\n",
    "            print(f\"Duration: {request['Duration']} days\")\n",
    "            \n",
    "            decision = input(\"Approve this leave? (yes/no): \").lower()\n",
    "            if decision == \"yes\":\n",
    "                request[\"Status\"] = \"Approved\"\n",
    "                leave_balance[request[\"Leave Type\"]] -= request[\"Duration\"]\n",
    "                print(\"Leave Approved.\")\n",
    "            else:\n",
    "                request[\"Status\"] = \"Rejected\"\n",
    "                print(\"Leave Rejected.\")\n",
    "\n",
    "# Part 3: Check Leave Balance\n",
    "def check_leave_balance():\n",
    "    print(\"Current Leave Balance:\")\n",
    "    for leave_type, days in leave_balance.items():\n",
    "        print(f\"{leave_type} Leave: {days} days remaining\")\n",
    "\n",
    "# Main Menu\n",
    "def main_menu():\n",
    "    while True:\n",
    "        print(\"\\n--- Employee Leave Management System ---\")\n",
    "        print(\"1. Apply for Leave\")\n",
    "        print(\"2. Approve Leave Requests (Manager)\")\n",
    "        print(\"3. Check Leave Balance\")\n",
    "        print(\"4. Exit\")\n",
    "        choice = input(\"Enter your choice: \")\n",
    "        \n",
    "        if choice == \"1\":\n",
    "            apply_for_leave()\n",
    "        elif choice == \"2\":\n",
    "            approve_leave()\n",
    "        elif choice == \"3\":\n",
    "            check_leave_balance()\n",
    "        elif choice == \"4\":\n",
    "            print(\"Goodbye!\")\n",
    "            break\n",
    "        else:\n",
    "            print(\"Invalid choice, please try again.\")\n",
    "\n",
    "# Run the system\n",
    "main_menu()"
   ]
  },
  {
   "cell_type": "code",
   "execution_count": null,
   "id": "5fa0a44a-6daf-497b-a154-13fa4606a076",
   "metadata": {},
   "outputs": [],
   "source": []
  }
 ],
 "metadata": {
  "kernelspec": {
   "display_name": "Python 3 (ipykernel)",
   "language": "python",
   "name": "python3"
  },
  "language_info": {
   "codemirror_mode": {
    "name": "ipython",
    "version": 3
   },
   "file_extension": ".py",
   "mimetype": "text/x-python",
   "name": "python",
   "nbconvert_exporter": "python",
   "pygments_lexer": "ipython3",
   "version": "3.12.4"
  }
 },
 "nbformat": 4,
 "nbformat_minor": 5
}
